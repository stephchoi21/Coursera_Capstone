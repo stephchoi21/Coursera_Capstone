{
 "cells": [
  {
   "cell_type": "markdown",
   "metadata": {},
   "source": [
    "## Introduction / Business Problem\n",
    "\n",
    "This project will be an exploration and analysis of suburban Philadelphia, Pennsylania, USA. The intended audience for the final report is the management of Burger Chain, Inc. who are looking to expand their locations in PA. In this project we will leverage the Foursquare API, along with interactive maps, clustering analysis and other exploratory techniques, to learn about the neighborhoods and the associated market opportunity. Identifying the right expansion locations for Burger Chain, Inc. could make the difference toward a successful expansion and therefore to the future of the business. \n"
   ]
  },
  {
   "cell_type": "markdown",
   "metadata": {},
   "source": [
    "## Data\n",
    "\n",
    "As part of this project, we will use the Foursquare API to obtain data on types of restaurants, retail venues and other industry, demographic and other features in the towns and regions around Philadelphia and surrouding area. The coordinates of towns and regions of suburban Philadelphia are publicly available. Certain key features will be explored, such as new upscale housing and commercial real estate developments, and competitive and complementary food and restaurant locations. We will seek to understand where successful branded companies are located, new housing and commercial real estate developments, what the demographic trends are in different neighborhoods. Nearby golf courses, parks, green, Good schools, colleges and universities and economic and population growth may be factors to consider.\n",
    "\n",
    "Additional datasets may also be used such as the Crime Dataset from Kaggle [see www.kaggle.com], and one or more data sets from Open Data Philly, the official repository for the City of Philadelphia(https://www.opendataphilly.org). Dataset addressing one or more of the following topics may also be explored:\n",
    "\n",
    "* Population density, regional wealth indices\n",
    "* Parks, Playgrounds, Picnic sites \n",
    "* Tobacco retailer permits, Air quality index\n",
    "* Choice neighborhoods, Neighborhood food retail and neighborhood resources\n",
    "* Land use, Vacant property indicators \n",
    "* Crime incidents, Shooting victims, Fatal crashes\n",
    "\n",
    "The objective will be to explore and analyze the various data in new ways in order to develop an insightful picture of the Philadelphia region.\n"
   ]
  },
  {
   "cell_type": "code",
   "execution_count": null,
   "metadata": {},
   "outputs": [],
   "source": []
  }
 ],
 "metadata": {
  "kernelspec": {
   "display_name": "Python 3",
   "language": "python",
   "name": "python3"
  },
  "language_info": {
   "codemirror_mode": {
    "name": "ipython",
    "version": 3
   },
   "file_extension": ".py",
   "mimetype": "text/x-python",
   "name": "python",
   "nbconvert_exporter": "python",
   "pygments_lexer": "ipython3",
   "version": "3.8.5"
  }
 },
 "nbformat": 4,
 "nbformat_minor": 4
}
